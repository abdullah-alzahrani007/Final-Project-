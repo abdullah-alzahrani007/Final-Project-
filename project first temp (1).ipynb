{
 "cells": [
  {
   "cell_type": "code",
   "execution_count": 1,
   "id": "f4fded3c-df0f-47b9-856f-4cb62b830730",
   "metadata": {},
   "outputs": [],
   "source": [
    "import pandas as pd\n",
    "import pandas\n",
    "import numpy as np\n",
    "from pandas_datareader import data as pdr\n",
    "import matplotlib.pyplot as plt\n",
    "from pandas.plotting import scatter_matrix\n",
    "import datetime \n",
    "import seaborn as sns\n",
    "import yfinance as yf\n",
    "yf.pdr_override()\n",
    "import warnings\n",
    "warnings.filterwarnings(\"ignore\")"
   ]
  },
  {
   "cell_type": "markdown",
   "id": "6cccce3e-fc3c-4c12-b608-947c9fc636e8",
   "metadata": {},
   "source": [
    "## Data Collection and Feature generation\n",
    "\n",
    "We begin by generating a dataset that contains the predictors which will be used to make the predictions, and the output variable.\n",
    "\n",
    "Our dataset is built using raw data comprising of a 4-year price series for two different stocks. The individual stocks and index data consists of Date, Open, High, Low, Close and Volume. Using this data we calculated our indicators based on various technical indicators i.e. Rate Of Change(ROC), Momentum (MOM), moving average(MA)."
   ]
  },
  {
   "cell_type": "code",
   "execution_count": 2,
   "id": "96ad68ed-2f35-43b7-9dfb-385a8acf7ac1",
   "metadata": {},
   "outputs": [
    {
     "name": "stdout",
     "output_type": "stream",
     "text": [
      "[*********************100%***********************]  1 of 1 completed\n"
     ]
    }
   ],
   "source": [
    "\n",
    "#df_2 = pdr.get_data_yahoo('TSLA', pd.Timestamp('2018'),pd.Timestamp.now())[['Open', 'High', 'Low', 'Close', 'Volume']].rename(columns={'Open': 'TSLA_Open','Close':'TSLA_Close', 'High':'TSLA_High', 'Low':'TSLA_Low', 'Volume':'TSLA_Volume'})\n",
    "df_4 = pdr.get_data_yahoo('IBM', pd.Timestamp('2018'),pd.Timestamp.now())[['Open', 'High', 'Low', 'Close', 'Volume']].rename(columns={'Open': 'IBM_Open','Close':'IBM_Close', 'High':'IBM_High', 'Low':'IBM_Low', 'Volume':'IBM_Volume'})"
   ]
  },
  {
   "cell_type": "code",
   "execution_count": 3,
   "id": "e08de15d-99e9-4664-b0ef-ea5cb7abd6cb",
   "metadata": {
    "tags": []
   },
   "outputs": [],
   "source": [
    "# Initialize the `signals` DataFrame with the `signal` column\n",
    "df_4['IBM_signal'] = 0.0\n",
    "\n",
    "# Create short simple moving average over the short window\n",
    "df_4['short_mavg'] = df_4['IBM_Close'].rolling(window=7, min_periods=1, center=False).mean()\n",
    "\n",
    "# Create long simple moving average over the long window\n",
    "df_4['long_mavg'] = df_4['IBM_Close'].rolling(window=20, min_periods=1, center=False).mean()\n",
    "\n",
    "# Create signals\n",
    "df_4['IBM_signal'] = np.where(df_4['short_mavg'] > df_4['long_mavg'], 1.0, 0.0)"
   ]
  },
  {
   "cell_type": "code",
   "execution_count": 4,
   "id": "fe8ab333-6362-4da2-a170-b07e03a3bbaa",
   "metadata": {
    "tags": []
   },
   "outputs": [
    {
     "data": {
      "text/html": [
       "<div>\n",
       "<style scoped>\n",
       "    .dataframe tbody tr th:only-of-type {\n",
       "        vertical-align: middle;\n",
       "    }\n",
       "\n",
       "    .dataframe tbody tr th {\n",
       "        vertical-align: top;\n",
       "    }\n",
       "\n",
       "    .dataframe thead th {\n",
       "        text-align: right;\n",
       "    }\n",
       "</style>\n",
       "<table border=\"1\" class=\"dataframe\">\n",
       "  <thead>\n",
       "    <tr style=\"text-align: right;\">\n",
       "      <th></th>\n",
       "      <th>IBM_Open</th>\n",
       "      <th>IBM_High</th>\n",
       "      <th>IBM_Low</th>\n",
       "      <th>IBM_Close</th>\n",
       "      <th>IBM_Volume</th>\n",
       "      <th>IBM_signal</th>\n",
       "      <th>short_mavg</th>\n",
       "      <th>long_mavg</th>\n",
       "      <th>IBM_ROC21</th>\n",
       "      <th>IBM_ROC63</th>\n",
       "      <th>IBM_MOM21</th>\n",
       "      <th>IBM_MOM63</th>\n",
       "      <th>IBM_MA21</th>\n",
       "      <th>IBM_MA63</th>\n",
       "    </tr>\n",
       "    <tr>\n",
       "      <th>Date</th>\n",
       "      <th></th>\n",
       "      <th></th>\n",
       "      <th></th>\n",
       "      <th></th>\n",
       "      <th></th>\n",
       "      <th></th>\n",
       "      <th></th>\n",
       "      <th></th>\n",
       "      <th></th>\n",
       "      <th></th>\n",
       "      <th></th>\n",
       "      <th></th>\n",
       "      <th></th>\n",
       "      <th></th>\n",
       "    </tr>\n",
       "  </thead>\n",
       "  <tbody>\n",
       "    <tr>\n",
       "      <th>2021-12-30</th>\n",
       "      <td>133.750000</td>\n",
       "      <td>134.369995</td>\n",
       "      <td>133.330002</td>\n",
       "      <td>133.910004</td>\n",
       "      <td>3158100</td>\n",
       "      <td>1.0</td>\n",
       "      <td>131.551431</td>\n",
       "      <td>125.930501</td>\n",
       "      <td>3.830350</td>\n",
       "      <td>8.201359</td>\n",
       "      <td>6.850006</td>\n",
       "      <td>11.330002</td>\n",
       "      <td>131.551431</td>\n",
       "      <td>129.010002</td>\n",
       "    </tr>\n",
       "    <tr>\n",
       "      <th>2021-12-31</th>\n",
       "      <td>134.000000</td>\n",
       "      <td>134.990005</td>\n",
       "      <td>133.610001</td>\n",
       "      <td>133.660004</td>\n",
       "      <td>3361700</td>\n",
       "      <td>1.0</td>\n",
       "      <td>132.221431</td>\n",
       "      <td>126.768501</td>\n",
       "      <td>3.013490</td>\n",
       "      <td>8.569574</td>\n",
       "      <td>4.690002</td>\n",
       "      <td>9.900002</td>\n",
       "      <td>132.221431</td>\n",
       "      <td>129.835002</td>\n",
       "    </tr>\n",
       "    <tr>\n",
       "      <th>2022-01-03</th>\n",
       "      <td>134.070007</td>\n",
       "      <td>136.289993</td>\n",
       "      <td>133.630005</td>\n",
       "      <td>136.039993</td>\n",
       "      <td>4605900</td>\n",
       "      <td>1.0</td>\n",
       "      <td>133.120002</td>\n",
       "      <td>127.628501</td>\n",
       "      <td>4.141459</td>\n",
       "      <td>8.028264</td>\n",
       "      <td>6.289993</td>\n",
       "      <td>12.929993</td>\n",
       "      <td>133.120002</td>\n",
       "      <td>130.912501</td>\n",
       "    </tr>\n",
       "    <tr>\n",
       "      <th>2022-01-04</th>\n",
       "      <td>136.100006</td>\n",
       "      <td>139.949997</td>\n",
       "      <td>135.899994</td>\n",
       "      <td>138.020004</td>\n",
       "      <td>7300000</td>\n",
       "      <td>1.0</td>\n",
       "      <td>134.175716</td>\n",
       "      <td>128.534001</td>\n",
       "      <td>4.862490</td>\n",
       "      <td>8.335952</td>\n",
       "      <td>7.389999</td>\n",
       "      <td>12.090004</td>\n",
       "      <td>134.175716</td>\n",
       "      <td>131.920001</td>\n",
       "    </tr>\n",
       "    <tr>\n",
       "      <th>2022-01-05</th>\n",
       "      <td>138.309998</td>\n",
       "      <td>142.199997</td>\n",
       "      <td>137.880005</td>\n",
       "      <td>138.220001</td>\n",
       "      <td>8944900</td>\n",
       "      <td>1.0</td>\n",
       "      <td>135.118574</td>\n",
       "      <td>129.366001</td>\n",
       "      <td>4.214730</td>\n",
       "      <td>8.783255</td>\n",
       "      <td>6.600006</td>\n",
       "      <td>10.820000</td>\n",
       "      <td>135.118574</td>\n",
       "      <td>132.821668</td>\n",
       "    </tr>\n",
       "  </tbody>\n",
       "</table>\n",
       "</div>"
      ],
      "text/plain": [
       "              IBM_Open    IBM_High     IBM_Low   IBM_Close  IBM_Volume  \\\n",
       "Date                                                                     \n",
       "2021-12-30  133.750000  134.369995  133.330002  133.910004     3158100   \n",
       "2021-12-31  134.000000  134.990005  133.610001  133.660004     3361700   \n",
       "2022-01-03  134.070007  136.289993  133.630005  136.039993     4605900   \n",
       "2022-01-04  136.100006  139.949997  135.899994  138.020004     7300000   \n",
       "2022-01-05  138.309998  142.199997  137.880005  138.220001     8944900   \n",
       "\n",
       "            IBM_signal  short_mavg   long_mavg  IBM_ROC21  IBM_ROC63  \\\n",
       "Date                                                                   \n",
       "2021-12-30         1.0  131.551431  125.930501   3.830350   8.201359   \n",
       "2021-12-31         1.0  132.221431  126.768501   3.013490   8.569574   \n",
       "2022-01-03         1.0  133.120002  127.628501   4.141459   8.028264   \n",
       "2022-01-04         1.0  134.175716  128.534001   4.862490   8.335952   \n",
       "2022-01-05         1.0  135.118574  129.366001   4.214730   8.783255   \n",
       "\n",
       "            IBM_MOM21  IBM_MOM63    IBM_MA21    IBM_MA63  \n",
       "Date                                                      \n",
       "2021-12-30   6.850006  11.330002  131.551431  129.010002  \n",
       "2021-12-31   4.690002   9.900002  132.221431  129.835002  \n",
       "2022-01-03   6.289993  12.929993  133.120002  130.912501  \n",
       "2022-01-04   7.389999  12.090004  134.175716  131.920001  \n",
       "2022-01-05   6.600006  10.820000  135.118574  132.821668  "
      ]
     },
     "execution_count": 4,
     "metadata": {},
     "output_type": "execute_result"
    }
   ],
   "source": [
    "#calculation of rate of change\n",
    "def ROC(df_4, n):  \n",
    "    M = df_4.diff(n - 1)  \n",
    "    N = df_4.shift(n - 1)  \n",
    "    ROC = pd.Series(((M / N) * 100), name = 'ROC_' + str(n))   \n",
    "    return ROC\n",
    "df_4['IBM_ROC21'] = ROC(df_4['IBM_Close'], 7)\n",
    "df_4['IBM_ROC63'] = ROC(df_4['IBM_Close'], 12)\n",
    "\n",
    "#Calculation of price momentum\n",
    "def MOM(df_4, n):   \n",
    "    MOM = pd.Series(df_4.diff(n), name='Momentum_' + str(n))   \n",
    "    return MOM\n",
    "df_4['IBM_MOM21'] = MOM(df_4['IBM_Close'], 7)\n",
    "df_4['IBM_MOM63'] = MOM(df_4['IBM_Close'], 12)\n",
    "#Calculation of moving average\n",
    "def MA(df_4, n):\n",
    "    MA = pd.Series(df_4['IBM_Close'].rolling(n, min_periods=n).mean(), name='MA_' + str(n))\n",
    "    return MA\n",
    "df_4['IBM_MA21'] = MA(df_4, 7)\n",
    "df_4['IBM_MA63'] = MA(df_4, 12)\n",
    "#df_4['IBM_MA252'] = MA(df_4, 252)\n",
    "df_4.tail()"
   ]
  },
  {
   "cell_type": "code",
   "execution_count": 5,
   "id": "0676222d-c511-4537-a1fc-2337572a7389",
   "metadata": {},
   "outputs": [],
   "source": [
    "Stocks_df= df_4"
   ]
  },
  {
   "cell_type": "code",
   "execution_count": 6,
   "id": "22e7dfa0-586f-4f95-bfc7-95f2d8c4d849",
   "metadata": {},
   "outputs": [],
   "source": [
    "Stocks_df = Stocks_df.dropna()"
   ]
  },
  {
   "cell_type": "code",
   "execution_count": 7,
   "id": "4e411403-1667-4268-8eb3-51fc9a062d95",
   "metadata": {
    "tags": []
   },
   "outputs": [
    {
     "data": {
      "text/html": [
       "<div>\n",
       "<style scoped>\n",
       "    .dataframe tbody tr th:only-of-type {\n",
       "        vertical-align: middle;\n",
       "    }\n",
       "\n",
       "    .dataframe tbody tr th {\n",
       "        vertical-align: top;\n",
       "    }\n",
       "\n",
       "    .dataframe thead th {\n",
       "        text-align: right;\n",
       "    }\n",
       "</style>\n",
       "<table border=\"1\" class=\"dataframe\">\n",
       "  <thead>\n",
       "    <tr style=\"text-align: right;\">\n",
       "      <th></th>\n",
       "      <th>IBM_Open</th>\n",
       "      <th>IBM_High</th>\n",
       "      <th>IBM_Low</th>\n",
       "      <th>IBM_Close</th>\n",
       "      <th>IBM_Volume</th>\n",
       "      <th>IBM_signal</th>\n",
       "      <th>short_mavg</th>\n",
       "      <th>long_mavg</th>\n",
       "      <th>IBM_ROC21</th>\n",
       "      <th>IBM_ROC63</th>\n",
       "      <th>IBM_MOM21</th>\n",
       "      <th>IBM_MOM63</th>\n",
       "      <th>IBM_MA21</th>\n",
       "      <th>IBM_MA63</th>\n",
       "    </tr>\n",
       "    <tr>\n",
       "      <th>Date</th>\n",
       "      <th></th>\n",
       "      <th></th>\n",
       "      <th></th>\n",
       "      <th></th>\n",
       "      <th></th>\n",
       "      <th></th>\n",
       "      <th></th>\n",
       "      <th></th>\n",
       "      <th></th>\n",
       "      <th></th>\n",
       "      <th></th>\n",
       "      <th></th>\n",
       "      <th></th>\n",
       "      <th></th>\n",
       "    </tr>\n",
       "  </thead>\n",
       "  <tbody>\n",
       "    <tr>\n",
       "      <th>2018-01-19</th>\n",
       "      <td>157.227539</td>\n",
       "      <td>158.126190</td>\n",
       "      <td>154.206497</td>\n",
       "      <td>155.229446</td>\n",
       "      <td>22146435</td>\n",
       "      <td>1.0</td>\n",
       "      <td>157.813442</td>\n",
       "      <td>155.886161</td>\n",
       "      <td>-1.102452</td>\n",
       "      <td>2.448102</td>\n",
       "      <td>-1.395798</td>\n",
       "      <td>7.762909</td>\n",
       "      <td>157.813442</td>\n",
       "      <td>156.587797</td>\n",
       "    </tr>\n",
       "    <tr>\n",
       "      <th>2018-01-22</th>\n",
       "      <td>154.407272</td>\n",
       "      <td>156.768646</td>\n",
       "      <td>154.024857</td>\n",
       "      <td>155.449326</td>\n",
       "      <td>8870917</td>\n",
       "      <td>1.0</td>\n",
       "      <td>157.597652</td>\n",
       "      <td>155.854959</td>\n",
       "      <td>-0.974428</td>\n",
       "      <td>0.556581</td>\n",
       "      <td>-1.510529</td>\n",
       "      <td>3.929245</td>\n",
       "      <td>157.597652</td>\n",
       "      <td>156.915234</td>\n",
       "    </tr>\n",
       "    <tr>\n",
       "      <th>2018-01-23</th>\n",
       "      <td>155.659653</td>\n",
       "      <td>158.948380</td>\n",
       "      <td>155.363297</td>\n",
       "      <td>158.938812</td>\n",
       "      <td>7809645</td>\n",
       "      <td>1.0</td>\n",
       "      <td>157.877629</td>\n",
       "      <td>156.060549</td>\n",
       "      <td>1.906341</td>\n",
       "      <td>2.313991</td>\n",
       "      <td>1.959839</td>\n",
       "      <td>4.349899</td>\n",
       "      <td>157.877629</td>\n",
       "      <td>157.277725</td>\n",
       "    </tr>\n",
       "    <tr>\n",
       "      <th>2018-01-24</th>\n",
       "      <td>159.416824</td>\n",
       "      <td>161.300186</td>\n",
       "      <td>157.571701</td>\n",
       "      <td>158.097519</td>\n",
       "      <td>5904670</td>\n",
       "      <td>1.0</td>\n",
       "      <td>158.182192</td>\n",
       "      <td>156.187860</td>\n",
       "      <td>0.927678</td>\n",
       "      <td>1.162298</td>\n",
       "      <td>2.131943</td>\n",
       "      <td>2.753357</td>\n",
       "      <td>158.182192</td>\n",
       "      <td>157.507172</td>\n",
       "    </tr>\n",
       "    <tr>\n",
       "      <th>2018-01-25</th>\n",
       "      <td>158.613770</td>\n",
       "      <td>159.445511</td>\n",
       "      <td>157.925430</td>\n",
       "      <td>158.193115</td>\n",
       "      <td>3454415</td>\n",
       "      <td>1.0</td>\n",
       "      <td>158.403442</td>\n",
       "      <td>156.305816</td>\n",
       "      <td>-1.885567</td>\n",
       "      <td>1.001033</td>\n",
       "      <td>1.548752</td>\n",
       "      <td>1.912048</td>\n",
       "      <td>158.403442</td>\n",
       "      <td>157.666509</td>\n",
       "    </tr>\n",
       "    <tr>\n",
       "      <th>...</th>\n",
       "      <td>...</td>\n",
       "      <td>...</td>\n",
       "      <td>...</td>\n",
       "      <td>...</td>\n",
       "      <td>...</td>\n",
       "      <td>...</td>\n",
       "      <td>...</td>\n",
       "      <td>...</td>\n",
       "      <td>...</td>\n",
       "      <td>...</td>\n",
       "      <td>...</td>\n",
       "      <td>...</td>\n",
       "      <td>...</td>\n",
       "      <td>...</td>\n",
       "    </tr>\n",
       "    <tr>\n",
       "      <th>2021-12-30</th>\n",
       "      <td>133.750000</td>\n",
       "      <td>134.369995</td>\n",
       "      <td>133.330002</td>\n",
       "      <td>133.910004</td>\n",
       "      <td>3158100</td>\n",
       "      <td>1.0</td>\n",
       "      <td>131.551431</td>\n",
       "      <td>125.930501</td>\n",
       "      <td>3.830350</td>\n",
       "      <td>8.201359</td>\n",
       "      <td>6.850006</td>\n",
       "      <td>11.330002</td>\n",
       "      <td>131.551431</td>\n",
       "      <td>129.010002</td>\n",
       "    </tr>\n",
       "    <tr>\n",
       "      <th>2021-12-31</th>\n",
       "      <td>134.000000</td>\n",
       "      <td>134.990005</td>\n",
       "      <td>133.610001</td>\n",
       "      <td>133.660004</td>\n",
       "      <td>3361700</td>\n",
       "      <td>1.0</td>\n",
       "      <td>132.221431</td>\n",
       "      <td>126.768501</td>\n",
       "      <td>3.013490</td>\n",
       "      <td>8.569574</td>\n",
       "      <td>4.690002</td>\n",
       "      <td>9.900002</td>\n",
       "      <td>132.221431</td>\n",
       "      <td>129.835002</td>\n",
       "    </tr>\n",
       "    <tr>\n",
       "      <th>2022-01-03</th>\n",
       "      <td>134.070007</td>\n",
       "      <td>136.289993</td>\n",
       "      <td>133.630005</td>\n",
       "      <td>136.039993</td>\n",
       "      <td>4605900</td>\n",
       "      <td>1.0</td>\n",
       "      <td>133.120002</td>\n",
       "      <td>127.628501</td>\n",
       "      <td>4.141459</td>\n",
       "      <td>8.028264</td>\n",
       "      <td>6.289993</td>\n",
       "      <td>12.929993</td>\n",
       "      <td>133.120002</td>\n",
       "      <td>130.912501</td>\n",
       "    </tr>\n",
       "    <tr>\n",
       "      <th>2022-01-04</th>\n",
       "      <td>136.100006</td>\n",
       "      <td>139.949997</td>\n",
       "      <td>135.899994</td>\n",
       "      <td>138.020004</td>\n",
       "      <td>7300000</td>\n",
       "      <td>1.0</td>\n",
       "      <td>134.175716</td>\n",
       "      <td>128.534001</td>\n",
       "      <td>4.862490</td>\n",
       "      <td>8.335952</td>\n",
       "      <td>7.389999</td>\n",
       "      <td>12.090004</td>\n",
       "      <td>134.175716</td>\n",
       "      <td>131.920001</td>\n",
       "    </tr>\n",
       "    <tr>\n",
       "      <th>2022-01-05</th>\n",
       "      <td>138.309998</td>\n",
       "      <td>142.199997</td>\n",
       "      <td>137.880005</td>\n",
       "      <td>138.220001</td>\n",
       "      <td>8944900</td>\n",
       "      <td>1.0</td>\n",
       "      <td>135.118574</td>\n",
       "      <td>129.366001</td>\n",
       "      <td>4.214730</td>\n",
       "      <td>8.783255</td>\n",
       "      <td>6.600006</td>\n",
       "      <td>10.820000</td>\n",
       "      <td>135.118574</td>\n",
       "      <td>132.821668</td>\n",
       "    </tr>\n",
       "  </tbody>\n",
       "</table>\n",
       "<p>999 rows × 14 columns</p>\n",
       "</div>"
      ],
      "text/plain": [
       "              IBM_Open    IBM_High     IBM_Low   IBM_Close  IBM_Volume  \\\n",
       "Date                                                                     \n",
       "2018-01-19  157.227539  158.126190  154.206497  155.229446    22146435   \n",
       "2018-01-22  154.407272  156.768646  154.024857  155.449326     8870917   \n",
       "2018-01-23  155.659653  158.948380  155.363297  158.938812     7809645   \n",
       "2018-01-24  159.416824  161.300186  157.571701  158.097519     5904670   \n",
       "2018-01-25  158.613770  159.445511  157.925430  158.193115     3454415   \n",
       "...                ...         ...         ...         ...         ...   \n",
       "2021-12-30  133.750000  134.369995  133.330002  133.910004     3158100   \n",
       "2021-12-31  134.000000  134.990005  133.610001  133.660004     3361700   \n",
       "2022-01-03  134.070007  136.289993  133.630005  136.039993     4605900   \n",
       "2022-01-04  136.100006  139.949997  135.899994  138.020004     7300000   \n",
       "2022-01-05  138.309998  142.199997  137.880005  138.220001     8944900   \n",
       "\n",
       "            IBM_signal  short_mavg   long_mavg  IBM_ROC21  IBM_ROC63  \\\n",
       "Date                                                                   \n",
       "2018-01-19         1.0  157.813442  155.886161  -1.102452   2.448102   \n",
       "2018-01-22         1.0  157.597652  155.854959  -0.974428   0.556581   \n",
       "2018-01-23         1.0  157.877629  156.060549   1.906341   2.313991   \n",
       "2018-01-24         1.0  158.182192  156.187860   0.927678   1.162298   \n",
       "2018-01-25         1.0  158.403442  156.305816  -1.885567   1.001033   \n",
       "...                ...         ...         ...        ...        ...   \n",
       "2021-12-30         1.0  131.551431  125.930501   3.830350   8.201359   \n",
       "2021-12-31         1.0  132.221431  126.768501   3.013490   8.569574   \n",
       "2022-01-03         1.0  133.120002  127.628501   4.141459   8.028264   \n",
       "2022-01-04         1.0  134.175716  128.534001   4.862490   8.335952   \n",
       "2022-01-05         1.0  135.118574  129.366001   4.214730   8.783255   \n",
       "\n",
       "            IBM_MOM21  IBM_MOM63    IBM_MA21    IBM_MA63  \n",
       "Date                                                      \n",
       "2018-01-19  -1.395798   7.762909  157.813442  156.587797  \n",
       "2018-01-22  -1.510529   3.929245  157.597652  156.915234  \n",
       "2018-01-23   1.959839   4.349899  157.877629  157.277725  \n",
       "2018-01-24   2.131943   2.753357  158.182192  157.507172  \n",
       "2018-01-25   1.548752   1.912048  158.403442  157.666509  \n",
       "...               ...        ...         ...         ...  \n",
       "2021-12-30   6.850006  11.330002  131.551431  129.010002  \n",
       "2021-12-31   4.690002   9.900002  132.221431  129.835002  \n",
       "2022-01-03   6.289993  12.929993  133.120002  130.912501  \n",
       "2022-01-04   7.389999  12.090004  134.175716  131.920001  \n",
       "2022-01-05   6.600006  10.820000  135.118574  132.821668  \n",
       "\n",
       "[999 rows x 14 columns]"
      ]
     },
     "execution_count": 7,
     "metadata": {},
     "output_type": "execute_result"
    }
   ],
   "source": [
    "Stocks_df"
   ]
  },
  {
   "cell_type": "code",
   "execution_count": 8,
   "id": "694962af-f795-4e92-b18a-dff70e4bb4ff",
   "metadata": {},
   "outputs": [
    {
     "data": {
      "text/html": [
       "<div>\n",
       "<style scoped>\n",
       "    .dataframe tbody tr th:only-of-type {\n",
       "        vertical-align: middle;\n",
       "    }\n",
       "\n",
       "    .dataframe tbody tr th {\n",
       "        vertical-align: top;\n",
       "    }\n",
       "\n",
       "    .dataframe thead th {\n",
       "        text-align: right;\n",
       "    }\n",
       "</style>\n",
       "<table border=\"1\" class=\"dataframe\">\n",
       "  <thead>\n",
       "    <tr style=\"text-align: right;\">\n",
       "      <th></th>\n",
       "      <th>IBM_signal</th>\n",
       "      <th>IBM_ROC21</th>\n",
       "      <th>IBM_ROC63</th>\n",
       "      <th>IBM_MOM21</th>\n",
       "      <th>IBM_MOM63</th>\n",
       "      <th>IBM_MA21</th>\n",
       "      <th>IBM_MA63</th>\n",
       "    </tr>\n",
       "    <tr>\n",
       "      <th>Date</th>\n",
       "      <th></th>\n",
       "      <th></th>\n",
       "      <th></th>\n",
       "      <th></th>\n",
       "      <th></th>\n",
       "      <th></th>\n",
       "      <th></th>\n",
       "    </tr>\n",
       "  </thead>\n",
       "  <tbody>\n",
       "    <tr>\n",
       "      <th>2018-01-19</th>\n",
       "      <td>1.0</td>\n",
       "      <td>-1.102452</td>\n",
       "      <td>2.448102</td>\n",
       "      <td>-1.395798</td>\n",
       "      <td>7.762909</td>\n",
       "      <td>157.813442</td>\n",
       "      <td>156.587797</td>\n",
       "    </tr>\n",
       "    <tr>\n",
       "      <th>2018-01-22</th>\n",
       "      <td>1.0</td>\n",
       "      <td>-0.974428</td>\n",
       "      <td>0.556581</td>\n",
       "      <td>-1.510529</td>\n",
       "      <td>3.929245</td>\n",
       "      <td>157.597652</td>\n",
       "      <td>156.915234</td>\n",
       "    </tr>\n",
       "    <tr>\n",
       "      <th>2018-01-23</th>\n",
       "      <td>1.0</td>\n",
       "      <td>1.906341</td>\n",
       "      <td>2.313991</td>\n",
       "      <td>1.959839</td>\n",
       "      <td>4.349899</td>\n",
       "      <td>157.877629</td>\n",
       "      <td>157.277725</td>\n",
       "    </tr>\n",
       "    <tr>\n",
       "      <th>2018-01-24</th>\n",
       "      <td>1.0</td>\n",
       "      <td>0.927678</td>\n",
       "      <td>1.162298</td>\n",
       "      <td>2.131943</td>\n",
       "      <td>2.753357</td>\n",
       "      <td>158.182192</td>\n",
       "      <td>157.507172</td>\n",
       "    </tr>\n",
       "    <tr>\n",
       "      <th>2018-01-25</th>\n",
       "      <td>1.0</td>\n",
       "      <td>-1.885567</td>\n",
       "      <td>1.001033</td>\n",
       "      <td>1.548752</td>\n",
       "      <td>1.912048</td>\n",
       "      <td>158.403442</td>\n",
       "      <td>157.666509</td>\n",
       "    </tr>\n",
       "  </tbody>\n",
       "</table>\n",
       "</div>"
      ],
      "text/plain": [
       "            IBM_signal  IBM_ROC21  IBM_ROC63  IBM_MOM21  IBM_MOM63  \\\n",
       "Date                                                                 \n",
       "2018-01-19         1.0  -1.102452   2.448102  -1.395798   7.762909   \n",
       "2018-01-22         1.0  -0.974428   0.556581  -1.510529   3.929245   \n",
       "2018-01-23         1.0   1.906341   2.313991   1.959839   4.349899   \n",
       "2018-01-24         1.0   0.927678   1.162298   2.131943   2.753357   \n",
       "2018-01-25         1.0  -1.885567   1.001033   1.548752   1.912048   \n",
       "\n",
       "              IBM_MA21    IBM_MA63  \n",
       "Date                                \n",
       "2018-01-19  157.813442  156.587797  \n",
       "2018-01-22  157.597652  156.915234  \n",
       "2018-01-23  157.877629  157.277725  \n",
       "2018-01-24  158.182192  157.507172  \n",
       "2018-01-25  158.403442  157.666509  "
      ]
     },
     "execution_count": 8,
     "metadata": {},
     "output_type": "execute_result"
    }
   ],
   "source": [
    "#excluding columns that are not needed for our prediction.\n",
    "\n",
    "Indicator_df=Stocks_df.drop(['IBM_Close','IBM_High','IBM_Low','IBM_Open', 'IBM_Volume','short_mavg','long_mavg'], axis=1)\n",
    "Indicator_df.head()"
   ]
  },
  {
   "cell_type": "markdown",
   "id": "b369ebee-2276-42e5-9f94-6358da1fc092",
   "metadata": {},
   "source": [
    "## Data Visualization \n",
    "\n",
    "The most significant pre-requisite for predictive modeling is to have a good understanding of the dataset. And also visualize the correlation between the various features, obtained from the model improves its accuracy. We would like to see if we have a balanced data or not"
   ]
  },
  {
   "cell_type": "code",
   "execution_count": 9,
   "id": "e256f4f1-deb4-4c5b-88e4-d8916ad24754",
   "metadata": {},
   "outputs": [
    {
     "data": {
      "text/plain": [
       "<AxesSubplot:xlabel='Date'>"
      ]
     },
     "execution_count": 9,
     "metadata": {},
     "output_type": "execute_result"
    },
    {
     "data": {
      "image/png": "[encoded data removed]",
      "text/plain": [
       "<Figure size 432x288 with 1 Axes>"
      ]
     },
     "metadata": {
      "needs_background": "light"
     },
     "output_type": "display_data"
    }
   ],
   "source": [
    "Close_Vis_df = Stocks_df[['IBM_Close']]\n",
    "Close_Vis_df.plot()"
   ]
  },
  {
   "cell_type": "code",
   "execution_count": null,
   "id": "95026dce-e227-4dd3-83fb-1ab0ac223480",
   "metadata": {},
   "outputs": [],
   "source": []
  },
  {
   "cell_type": "code",
   "execution_count": 10,
   "id": "f2e5c03d-3324-45a1-b454-8f94d23efa6f",
   "metadata": {},
   "outputs": [
    {
     "data": {
      "image/png": "[encoded data removed]",
      "text/plain": [
       "<Figure size 2160x2160 with 6 Axes>"
      ]
     },
     "metadata": {
      "needs_background": "light"
     },
     "output_type": "display_data"
    }
   ],
   "source": [
    "visualize_cols=['IBM_ROC21','IBM_ROC63','IBM_MOM21','IBM_MOM63','IBM_MA21','IBM_MA63']\n",
    "plt.figure(figsize=(30,30))\n",
    "\n",
    "for i in range(len(visualize_cols)):\n",
    "    plt.subplot(6,6,i+1)\n",
    "    sns.distplot(Indicator_df[visualize_cols[i]])\n",
    "plt.show()"
   ]
  },
  {
   "cell_type": "code",
   "execution_count": 11,
   "id": "76d1807c-632c-491e-9420-0e40a7db1b70",
   "metadata": {},
   "outputs": [
    {
     "data": {
      "image/png": "[encoded data removed]",
      "text/plain": [
       "<Figure size 432x288 with 1 Axes>"
      ]
     },
     "metadata": {
      "needs_background": "light"
     },
     "output_type": "display_data"
    }
   ],
   "source": [
    "data_I = Indicator_df.groupby(['IBM_signal']).size()\n",
    "plot = data_I.plot(kind='barh', color='red')\n",
    "X=Indicator_df.drop(['IBM_signal'], axis=1)\n",
    "y=Indicator_df['IBM_signal']"
   ]
  },
  {
   "cell_type": "code",
   "execution_count": 12,
   "id": "bdd22661-7a34-48ed-9877-c0d35ce06765",
   "metadata": {},
   "outputs": [
    {
     "data": {
      "image/png": "[encoded data removed]",
      "text/plain": [
       "<Figure size 1080x864 with 2 Axes>"
      ]
     },
     "metadata": {
      "needs_background": "light"
     },
     "output_type": "display_data"
    }
   ],
   "source": [
    "names = ['IBM_ROC21','IBM_ROC63','IBM_MOM21','IBM_MOM63','IBM_MA21','IBM_MA63']\n",
    "\n",
    "correlations = X.corr()\n",
    "# plot correlation matrix\n",
    "fig = plt.figure(figsize=(15,12))\n",
    "ax = fig.add_subplot(111)\n",
    "cax = ax.matshow(correlations, vmin=-1, vmax=1)\n",
    "fig.colorbar(cax)\n",
    "ticks = np.arange(0,6,1)\n",
    "ax.set_xticks(ticks)\n",
    "ax.set_yticks(ticks)\n",
    "ax.set_xticklabels(names)\n",
    "ax.set_yticklabels(names)\n",
    "plt.show()"
   ]
  },
  {
   "cell_type": "markdown",
   "id": "224eb176-89e1-4e4a-a7e4-12f505dddc8f",
   "metadata": {},
   "source": [
    "## Feature selection\n",
    "\n",
    "Feature selection is the process of selecting a subset of features that are most relevant for model generation which aid in creating an accurate predictive model. \n",
    "\n",
    "In our model, we will use filter method utilising the random.forest.importance function. The random.forest.importance function rates the importance of each feature in the classification of the outcome. The function returns a data frame containing the name of each attribute and the importance value based on the mean decrease in accuracy."
   ]
  },
  {
   "cell_type": "code",
   "execution_count": 13,
   "id": "33cc9068-32b7-4984-84d3-27a1a1e8ecbf",
   "metadata": {},
   "outputs": [],
   "source": [
    "from sklearn.ensemble import RandomForestClassifier"
   ]
  },
  {
   "cell_type": "code",
   "execution_count": 14,
   "id": "a51ea556-0530-4e29-a1ad-2b517628c52e",
   "metadata": {},
   "outputs": [
    {
     "data": {
      "text/plain": [
       "RandomForestClassifier(n_estimators=500, n_jobs=-1, random_state=1)"
      ]
     },
     "execution_count": 14,
     "metadata": {},
     "output_type": "execute_result"
    }
   ],
   "source": [
    "forest = RandomForestClassifier(n_estimators=500,random_state=1,n_jobs=-1)\n",
    "forest.fit(X, y)"
   ]
  },
  {
   "cell_type": "code",
   "execution_count": 15,
   "id": "df1c2718-0e51-40d2-adf2-b8547325aefc",
   "metadata": {},
   "outputs": [
    {
     "name": "stdout",
     "output_type": "stream",
     "text": [
      "           Importance\n",
      "IBM_MA63     8.519618\n",
      "IBM_MA21     9.441982\n",
      "IBM_ROC21   10.536418\n",
      "IBM_MOM21   10.669093\n",
      "IBM_ROC63   25.832431\n",
      "IBM_MOM63   35.000457\n"
     ]
    },
    {
     "data": {
      "image/png": "[encoded data removed]",
      "text/plain": [
       "<Figure size 432x288 with 1 Axes>"
      ]
     },
     "metadata": {
      "needs_background": "light"
     },
     "output_type": "display_data"
    }
   ],
   "source": [
    "Importance = pd.DataFrame({'Importance':forest.feature_importances_*100}, index=X.columns)\n",
    "print(Importance.sort_values('Importance', axis=0, ascending=True))\n",
    "Importance.sort_values('Importance', axis=0, ascending=True).plot(kind='barh', color='r', )\n",
    "plt.xlabel('Variable Importance')\n",
    "plt.gca().legend_ = None"
   ]
  },
  {
   "cell_type": "code",
   "execution_count": 16,
   "id": "82446c5f-ff90-4a08-80b8-e76b4bdb41cf",
   "metadata": {},
   "outputs": [],
   "source": [
    "from sklearn.model_selection import train_test_split\n",
    "from sklearn import datasets\n",
    "from sklearn.model_selection import cross_val_score\n",
    "from sklearn.preprocessing import RobustScaler\n",
    "from sklearn import metrics\n",
    "from sklearn.model_selection import cross_val_predict\n",
    "from sklearn import model_selection\n",
    "from sklearn.metrics import classification_report\n",
    "from sklearn.metrics import confusion_matrix\n",
    "from sklearn.metrics import accuracy_score\n",
    "from sklearn.tree import DecisionTreeClassifier\n",
    "from sklearn.neighbors import KNeighborsClassifier"
   ]
  },
  {
   "cell_type": "markdown",
   "id": "34aea45b-9ce4-49e2-a067-ccde18497d69",
   "metadata": {},
   "source": [
    "## Splitting\n",
    "\n",
    "After creating models for unseen data, we will check their accuracy thanks to statistical methods. We evaluate the accuracy of the best model on actual unseen data to have the estimation more concrete. Meaning that we will use the algorithm on the training set and use the model on the test set afterwards for validation. We split the dataset into 70% training set and 30% test set."
   ]
  },
  {
   "cell_type": "code",
   "execution_count": 17,
   "id": "6f336e77-3854-4f7e-bcc9-f2aee13f590f",
   "metadata": {},
   "outputs": [
    {
     "name": "stdout",
     "output_type": "stream",
     "text": [
      "(699, 13) (699,)\n",
      "(300, 13) (300,)\n"
     ]
    }
   ],
   "source": [
    "X_1=Stocks_df.drop(['IBM_signal'],axis=1)\n",
    "X_train, X_test, Y_train, Y_test = train_test_split(X_1, y, test_size=0.3, random_state=1)\n",
    "print (X_train.shape, Y_train.shape)\n",
    "print (X_test.shape, Y_test.shape)\n",
    "from sklearn.preprocessing import RobustScaler\n",
    "X_train_1=X_train.drop(['IBM_Close','IBM_High','IBM_Low','IBM_Open', 'IBM_Volume'], axis=1)\n",
    "X_test_1=X_test.drop(['IBM_Close','IBM_High','IBM_Low','IBM_Open', 'IBM_Volume'], axis=1)\n",
    "\n",
    "rs = RobustScaler()\n",
    "rs.fit(X_train_1)\n",
    "X_train_std = rs.transform(X_train_1)\n",
    "X_test_std = rs.transform(X_test_1)"
   ]
  },
  {
   "cell_type": "markdown",
   "id": "3e8c20b2-67fc-4136-b5ba-5762d27fab16",
   "metadata": {},
   "source": [
    "## Modeling\n",
    "\n",
    "In order to know which algorithm technic is the best for our strategy, we evaluate 3 non linear different methods:\n",
    "\n",
    "K-Nearest Neighbors (KNN)  \n",
    "Classification and Regression Trees (CART)  \n",
    "Random Forest (RF)  \n",
    "\n",
    "To ensure the comparatibility of the results (use the same data splits), the random number (seed = 1) is reset before each run."
   ]
  },
  {
   "cell_type": "code",
   "execution_count": 18,
   "id": "fdd149ae-eb8b-4af2-8eab-32b23b44bbfe",
   "metadata": {},
   "outputs": [
    {
     "name": "stdout",
     "output_type": "stream",
     "text": [
      "KNN: 0.859814 (0.026881)\n",
      "CART: 0.829772 (0.028798)\n",
      "RF: 0.874120 (0.024506)\n"
     ]
    }
   ],
   "source": [
    "# Spot Check Algorithms\n",
    "data_Selected = []\n",
    "data_Selected.append(('KNN', KNeighborsClassifier()))\n",
    "data_Selected.append(('CART', DecisionTreeClassifier()))\n",
    "data_Selected.append(('RF', RandomForestClassifier()))\n",
    "# evaluate each model in turn\n",
    "results = []\n",
    "names = []\n",
    "score=['f1','accuracy','precison','recall']\n",
    "for name, model in data_Selected:\n",
    "    kfold = model_selection.KFold(n_splits=10, random_state=1)\n",
    "    cv_results =cross_val_score(model, X_train_std, Y_train, cv=kfold, scoring='accuracy')\n",
    "    results.append(cv_results)\n",
    "    names.append(name)\n",
    "    output = \"%s: %f (%f)\" % (name, cv_results.mean(), cv_results.std())\n",
    "    print(output)"
   ]
  },
  {
   "cell_type": "code",
   "execution_count": 19,
   "id": "ee343e3c-7b60-4ac7-9a3e-012842d00357",
   "metadata": {},
   "outputs": [
    {
     "data": {
      "image/png": "[encoded data removed]",
      "text/plain": [
       "<Figure size 432x288 with 1 Axes>"
      ]
     },
     "metadata": {
      "needs_background": "light"
     },
     "output_type": "display_data"
    }
   ],
   "source": [
    "fig = plt.figure()\n",
    "fig.suptitle('Algorithm Comparison')\n",
    "ax = fig.add_subplot(111)\n",
    "plt.boxplot(results)\n",
    "ax.set_xticklabels(names)\n",
    "plt.show()"
   ]
  },
  {
   "cell_type": "code",
   "execution_count": 20,
   "id": "d2a93df9-eb7a-4db8-8ac9-6487a2ad3e00",
   "metadata": {},
   "outputs": [],
   "source": [
    "rf = RandomForestClassifier(n_estimators=500, min_samples_split=5,min_samples_leaf =2,max_features = 6,n_jobs=4,criterion='gini')\n",
    "predy=rf.fit(X_train_std, Y_train)"
   ]
  },
  {
   "cell_type": "code",
   "execution_count": 21,
   "id": "d49766e3-49e8-4892-bde0-9bfb5378ca53",
   "metadata": {},
   "outputs": [],
   "source": [
    "predr= rf.predict(X_test_std)"
   ]
  },
  {
   "cell_type": "code",
   "execution_count": 22,
   "id": "f1cf2a83-fe08-4009-89af-7033b111a31f",
   "metadata": {},
   "outputs": [
    {
     "name": "stdout",
     "output_type": "stream",
     "text": [
      "0.9066666666666666\n",
      "[[133  13]\n",
      " [ 15 139]]\n",
      "              precision    recall  f1-score   support\n",
      "\n",
      "         0.0       0.90      0.91      0.90       146\n",
      "         1.0       0.91      0.90      0.91       154\n",
      "\n",
      "    accuracy                           0.91       300\n",
      "   macro avg       0.91      0.91      0.91       300\n",
      "weighted avg       0.91      0.91      0.91       300\n",
      "\n"
     ]
    }
   ],
   "source": [
    "print(accuracy_score(Y_test, predr))\n",
    "print(confusion_matrix(Y_test, predr))\n",
    "print(classification_report(Y_test, predr))"
   ]
  },
  {
   "cell_type": "code",
   "execution_count": 23,
   "id": "81308798-dd56-4a4e-b9a6-cfb0221a800e",
   "metadata": {},
   "outputs": [],
   "source": [
    "import itertools\n",
    "from sklearn.metrics import roc_curve, auc, roc_auc_score, log_loss, accuracy_score, confusion_matrix,f1_score\n",
    "\n",
    "def pltcm(ax, y_test, y_pred, classes, title, th=0.7, cmap=plt.cm.Reds):\n",
    "    y_pred_labels = (y_pred>th).astype(int)\n",
    "    \n",
    "    cm = confusion_matrix(y_test, y_pred_labels)\n",
    "    \n",
    "    im = ax.imshow(cm, interpolation='nearest', cmap=cmap)\n",
    "    ax.set_title(title)\n",
    "\n",
    "    tickmarks = np.arange(len(classes))\n",
    "    ax.set_xticks(tickmarks)\n",
    "    ax.set_yticks(tickmarks)\n",
    "    ax.set_xticklabels(classes)\n",
    "    ax.set_yticklabels(classes)\n",
    "\n",
    "    thresh = cm.max() / 2.\n",
    "    for i, j in itertools.product(range(cm.shape[0]), range(cm.shape[1])):\n",
    "        ax.text(j, i, cm[i, j],\n",
    "                 horizontalalignment=\"center\",\n",
    "                 color=\"white\" if cm[i, j] > thresh else \"red\")\n",
    "    ax.set_ylabel('Actual')\n",
    "    ax.set_xlabel('Prediction')\n",
    "\n",
    "def pltauc(ax, y_train, y_pred, y_test, y_tpred, th=0.7):\n",
    "\n",
    "    y_predl = (y_pred>th).astype(int)\n",
    "    y_tpredl  = (y_tpred>th).astype(int)\n",
    "\n",
    "    fpr_tr, tpr_tr, _ = roc_curve(y_train,y_pred)\n",
    "    roc_auc_tr = auc(fpr_tr, tpr_tr)\n",
    "    acc_tr = accuracy_score(y_train, y_predl)\n",
    "\n",
    "    fpr_ts, tpr_ts, _ = roc_curve(y_test,y_tpred)\n",
    "    roc_auc_ts = auc(fpr_ts, tpr_ts)\n",
    "    acc_ts = accuracy_score(y_test, y_tpredl)\n",
    "\n",
    "    ax.plot(fpr_tr, tpr_tr)\n",
    "    ax.plot(fpr_ts, tpr_ts)\n",
    "\n",
    "    ax.plot([0, 1], [0, 1], 'k--')\n",
    "\n",
    "    ax.set_xlim([0.0, 1.0])\n",
    "    ax.set_ylim([0.0, 1.05])\n",
    "    ax.set_xlabel('False Positive Rate')\n",
    "    ax.set_ylabel('True Positive Rate')\n",
    "    ax.set_title('ROC curve')\n",
    "    \n",
    "    train_text = 'train acc = {:.3f}, auc = {:.2f}'.format(acc_tr, roc_auc_tr)\n",
    "    test_text = 'test acc = {:.3f}, auc = {:.2f}'.format(acc_ts, roc_auc_ts)\n",
    "    ax.legend([train_text, test_text])\n",
    "\n",
    "    \n",
    "    \n",
    "def result(es,threshold,X_train,X_test,y_train,y_test):\n",
    "    y_pred = es.predict(X_train)\n",
    "    y_tpred = es.predict(X_test)\n",
    "\n",
    "\n",
    "    fig,ax = plt.subplots(1,3)\n",
    "    fig.set_size_inches(15,5)\n",
    "\n",
    "    pltcm(ax[0],  y_train, y_pred, [0,1], 'Confusion matrix (TRAIN)', threshold)\n",
    "    pltcm(ax[1],  y_test, y_tpred,   [0,1], 'Confusion matrix (TEST)', threshold)\n",
    "    pltauc(ax[2], y_train, y_pred, y_test, y_tpred, threshold)\n",
    "    \n",
    "    plt.tight_layout()\n",
    "    plt.show()\n",
    "    \n",
    "def btf1(es,X_test,y_test):\n",
    "    thresholds = np.linspace(0.3,0.6,100)\n",
    "    y_tpred = es.predict(X_test)\n",
    "    score_set = []\n",
    "    index_threshold = 0\n",
    "    sum_score = 0\n",
    "    for threshold in thresholds:\n",
    "        y_tpred1  = (y_tpred > threshold).astype(int)\n",
    "        score = f1_score(y_test, y_tpred1)\n",
    "        score_set.append(score)\n",
    "    for i in range(95):\n",
    "        temp = sum(score_set[i:i+5])\n",
    "        if temp > sum_score:\n",
    "            sum_score = temp\n",
    "            index_threshold = i+2 # the average threshold\n",
    "    \n",
    "    return thresholds[index_threshold],sum_score/5\n",
    "\n",
    "def testf1(es,bestthreshold,X_test,y_test):\n",
    "    y_tpred = es.predict(X_test)\n",
    "    y_tpred1  = (y_tpred > bestthreshold).astype(int)\n",
    "    score = f1_score(y_test, y_tpred1)\n",
    "    return score"
   ]
  },
  {
   "cell_type": "code",
   "execution_count": 24,
   "id": "0ed18131-6e39-4319-9fab-4b5e96910d1b",
   "metadata": {},
   "outputs": [
    {
     "name": "stdout",
     "output_type": "stream",
     "text": [
      "test f1: 0.9084967320261438 train f1: 0.9891598915989162\n"
     ]
    },
    {
     "data": {
      "image/png": "[encoded data removed]",
      "text/plain": [
       "<Figure size 1080x360 with 3 Axes>"
      ]
     },
     "metadata": {
      "needs_background": "light"
     },
     "output_type": "display_data"
    }
   ],
   "source": [
    "bestthreshold,bestf1 = btf1(rf,X_train_std, Y_train)\n",
    "testf1 = testf1(rf,bestthreshold,X_test_std,Y_test)\n",
    "print('test f1:',testf1,'train f1:',bestf1)\n",
    "result(rf,bestthreshold,X_train_std,X_test_std, Y_train,Y_test)"
   ]
  },
  {
   "cell_type": "code",
   "execution_count": null,
   "id": "1f992030-e6bd-472f-a8a1-dde0c46f9e48",
   "metadata": {},
   "outputs": [],
   "source": []
  },
  {
   "cell_type": "markdown",
   "id": "399fc93c-e116-4511-9ca8-effbb7f1b995",
   "metadata": {},
   "source": [
    "## Conclusion"
   ]
  }
 ],
 "metadata": {
  "kernelspec": {
   "display_name": "Python 3",
   "language": "python",
   "name": "python3"
  },
  "language_info": {
   "codemirror_mode": {
    "name": "ipython",
    "version": 3
   },
   "file_extension": ".py",
   "mimetype": "text/x-python",
   "name": "python",
   "nbconvert_exporter": "python",
   "pygments_lexer": "ipython3",
   "version": "3.8.8"
  }
 },
 "nbformat": 4,
 "nbformat_minor": 5
}
